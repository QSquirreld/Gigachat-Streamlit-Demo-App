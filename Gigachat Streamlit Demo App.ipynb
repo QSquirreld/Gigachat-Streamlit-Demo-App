{
  "nbformat": 4,
  "nbformat_minor": 0,
  "metadata": {
    "colab": {
      "provenance": [],
      "gpuType": "T4"
    },
    "kernelspec": {
      "name": "python3",
      "display_name": "Python 3"
    },
    "language_info": {
      "name": "python"
    },
    "accelerator": "GPU"
  },
  "cells": [
    {
      "cell_type": "markdown",
      "source": [
        "# Разработка веб-приложения с LLM"
      ],
      "metadata": {
        "id": "RP8VRAjeE4Ii"
      }
    },
    {
      "cell_type": "markdown",
      "source": [
        "GigaChat API"
      ],
      "metadata": {
        "id": "XJvC4Jo1G2aK"
      }
    },
    {
      "cell_type": "markdown",
      "source": [
        "Создание аккаунта: https://developers.sber.ru/studio/login\n",
        "\n",
        "Авторизация: https://developers.sber.ru/docs/ru/gigachat/individuals-quickstart"
      ],
      "metadata": {
        "id": "1AQZ9VH4F7q0"
      }
    },
    {
      "cell_type": "markdown",
      "source": [
        "ngrok"
      ],
      "metadata": {
        "id": "h4wKkunTG5pF"
      }
    },
    {
      "cell_type": "markdown",
      "source": [
        "Создание аккаунта ngrok: https://dashboard.ngrok.com/\n",
        "\n",
        "Настройка доступа: https://dashboard.ngrok.com/get-started/setup/windows"
      ],
      "metadata": {
        "id": "GqotVX_XXZ4V"
      }
    },
    {
      "cell_type": "markdown",
      "source": [
        "## Использование GigaChat с Langchain"
      ],
      "metadata": {
        "id": "Le8CCsfZE8-1"
      }
    },
    {
      "cell_type": "code",
      "execution_count": null,
      "metadata": {
        "id": "O_Lg20sZEvct"
      },
      "outputs": [],
      "source": [
        "import os\n",
        "from google.colab import userdata"
      ]
    },
    {
      "cell_type": "code",
      "source": [
        "auth_key = userdata.get('giga_api')\n",
        "os.environ[\"GIGACHAT_CREDENTIALS\"] = auth_key"
      ],
      "metadata": {
        "id": "k75MHZWsH5Fc"
      },
      "execution_count": null,
      "outputs": []
    },
    {
      "cell_type": "code",
      "source": [
        "import json\n",
        "import requests\n",
        "\n",
        "url = \"https://ngw.devices.sberbank.ru:9443/api/v2/oauth\"\n",
        "\n",
        "payload = {\n",
        "    'scope': 'GIGACHAT_API_PERS'\n",
        "}\n",
        "\n",
        "headers = {\n",
        "    'Content-Type': 'application/x-www-form-urlencoded',\n",
        "    'Accept': 'application/json',\n",
        "    'RqUID': '09cde699-e915-475b-b3af-b737fc80a7a9',\n",
        "    'Authorization': f'Basic {os.environ[\"GIGACHAT_CREDENTIALS\"]}'\n",
        "}\n",
        "\n",
        "response = requests.request(\"POST\", url, headers=headers, data=payload, verify=False)\n",
        "\n",
        "access_token = json.loads(response.text)[\"access_token\"]"
      ],
      "metadata": {
        "colab": {
          "base_uri": "https://localhost:8080/"
        },
        "id": "HHnty68yIHy4",
        "outputId": "1cc67add-e046-4265-91c4-05d01d19679d"
      },
      "execution_count": null,
      "outputs": [
        {
          "output_type": "stream",
          "name": "stderr",
          "text": [
            "/usr/local/lib/python3.12/dist-packages/urllib3/connectionpool.py:1097: InsecureRequestWarning: Unverified HTTPS request is being made to host 'ngw.devices.sberbank.ru'. Adding certificate verification is strongly advised. See: https://urllib3.readthedocs.io/en/latest/advanced-usage.html#tls-warnings\n",
            "  warnings.warn(\n"
          ]
        }
      ]
    },
    {
      "cell_type": "markdown",
      "source": [
        "## Использование GigaChat через Langchain"
      ],
      "metadata": {
        "id": "OzgJdUb3IPWi"
      }
    },
    {
      "cell_type": "code",
      "source": [
        "%pip install --upgrade --quiet langchain-gigachat"
      ],
      "metadata": {
        "colab": {
          "base_uri": "https://localhost:8080/"
        },
        "id": "AiTCTS07ISO-",
        "outputId": "3c69f88a-6d33-4533-a729-4f1df7536c25"
      },
      "execution_count": null,
      "outputs": [
        {
          "output_type": "stream",
          "name": "stdout",
          "text": [
            "\u001b[?25l   \u001b[90m━━━━━━━━━━━━━━━━━━━━━━━━━━━━━━━━━━━━━━━━\u001b[0m \u001b[32m0.0/69.7 kB\u001b[0m \u001b[31m?\u001b[0m eta \u001b[36m-:--:--\u001b[0m\r\u001b[2K   \u001b[90m━━━━━━━━━━━━━━━━━━━━━━━━━━━━━━━━━━━━━━━━\u001b[0m \u001b[32m69.7/69.7 kB\u001b[0m \u001b[31m4.6 MB/s\u001b[0m eta \u001b[36m0:00:00\u001b[0m\n",
            "\u001b[?25h"
          ]
        }
      ]
    },
    {
      "cell_type": "code",
      "source": [
        "from langchain_gigachat import GigaChat\n",
        "\n",
        "chat = GigaChat(verify_ssl_certs=False, scope=\"GIGACHAT_API_PERS\")"
      ],
      "metadata": {
        "id": "GaRwTU1hJ-io"
      },
      "execution_count": null,
      "outputs": []
    },
    {
      "cell_type": "code",
      "source": [
        "from langchain_core.messages import HumanMessage, SystemMessage\n",
        "\n",
        "messages = [\n",
        "    SystemMessage( # системный промпт\n",
        "        content=\"Ты ИИ ассистент. Аргументированно отвечай на любые вопросы.\"\n",
        "    ),\n",
        "    HumanMessage(content='Как вырастить \"единорога\"?'),\n",
        "]\n",
        "\n",
        "print(chat.invoke(messages).content) # invoke() — отправляет запрос в LLM"
      ],
      "metadata": {
        "colab": {
          "base_uri": "https://localhost:8080/"
        },
        "id": "F4wsQ-v8KTvt",
        "outputId": "18e36fd8-c6bc-4d3b-bb8a-ad6f5f790ed3"
      },
      "execution_count": null,
      "outputs": [
        {
          "output_type": "stream",
          "name": "stdout",
          "text": [
            "Термин «единорог» в контексте бизнеса используется для обозначения частной компании, оценочная стоимость которой превышает один миллиард долларов. Для того чтобы компания могла стать единорогом, необходимо учитывать несколько ключевых факторов:\n",
            "\n",
            "1. **Уникальная бизнес-модель**: Компании-единороги обычно обладают инновационной и уникальной бизнес-моделью, которая решает конкретную проблему или удовлетворяет спрос, ранее не замеченный рынком.\n",
            " шляпах стартапов.\n",
            "\n",
            "2. **Качественный продукт или услуга**: Продукт должен быть востребованным, удобным и конкурентоспособным на рынке. В идеале он должен иметь высокий потенциал роста и масштабируемость.\n",
            "\n",
            "3. **Персонализированный подход к маркетингу и продажам**: Эффективная стратегия продвижения продукта и привлечение клиентов — важный аспект успеха стартапа. Персонализация маркетинга помогает быстрее завоевать доверие целевой аудитории.\n",
            "\n",
            "4. **Сильная команда управления**: Успех любой компании во многом зависит от качества её руководства и команды сотрудников. Лидерство, профессионализм и гибкость менеджмента являются ключевыми факторами успешного развития стартапа.\n",
            "\n",
            "5. **Финансовая поддержка и капитализация**: Привлечение инвестиций является важной частью стратегии любого стартапа. Наличие инвесторов с глубоким пониманием рынка и способностью поддерживать компанию в трудные времена значительно увеличивает шансы стартапа на успех.\n",
            "\n",
            "6. **Доступность ресурсов и инфраструктура**: Важно наличие доступа к необходимым ресурсам (технологиям, оборудованию, специалистам) и возможность быстро адаптироваться под изменения на рынке.\n",
            "\n",
            "7. **Инновационность и технологичность**: Быстрая адаптация новых технологий и инновационных решений позволяет компаниям оставаться впереди конкурентов и успешно конкурировать на глобальном уровне.\n",
            "\n",
            "8. **Стратегия выхода на международные рынки**: Выходя за пределы национального рынка, компания может значительно увеличить свою прибыль и повысить свою оценку.\n",
            "\n",
            "Таким образом, чтобы вырастить единорога, необходимо тщательно продумать стратегию развития, сосредоточиться на уникальности своего предложения, привлечь необходимые ресурсы и обеспечить поддержку со стороны опытных руководителей и инвесторов.\n"
          ]
        }
      ]
    },
    {
      "cell_type": "markdown",
      "source": [
        "## Создание веб-приложения"
      ],
      "metadata": {
        "id": "fPQZImknKxMT"
      }
    },
    {
      "cell_type": "code",
      "source": [
        "%pip install -q streamlit"
      ],
      "metadata": {
        "colab": {
          "base_uri": "https://localhost:8080/"
        },
        "id": "yv75yIW4KwpU",
        "outputId": "ab6df057-5683-4abe-a900-e11de6a48199"
      },
      "execution_count": null,
      "outputs": [
        {
          "output_type": "stream",
          "name": "stdout",
          "text": [
            "\u001b[?25l   \u001b[90m━━━━━━━━━━━━━━━━━━━━━━━━━━━━━━━━━━━━━━━━\u001b[0m \u001b[32m0.0/10.1 MB\u001b[0m \u001b[31m?\u001b[0m eta \u001b[36m-:--:--\u001b[0m\r\u001b[2K   \u001b[91m━━\u001b[0m\u001b[91m╸\u001b[0m\u001b[90m━━━━━━━━━━━━━━━━━━━━━━━━━━━━━━━━━━━━━\u001b[0m \u001b[32m0.6/10.1 MB\u001b[0m \u001b[31m19.1 MB/s\u001b[0m eta \u001b[36m0:00:01\u001b[0m\r\u001b[2K   \u001b[91m━━━━━━━━━━━━━━━━━━━━━━━\u001b[0m\u001b[91m╸\u001b[0m\u001b[90m━━━━━━━━━━━━━━━━\u001b[0m \u001b[32m5.9/10.1 MB\u001b[0m \u001b[31m86.1 MB/s\u001b[0m eta \u001b[36m0:00:01\u001b[0m\r\u001b[2K   \u001b[91m━━━━━━━━━━━━━━━━━━━━━━━━━━━━━━━━━━━━━━━\u001b[0m\u001b[91m╸\u001b[0m \u001b[32m10.1/10.1 MB\u001b[0m \u001b[31m116.5 MB/s\u001b[0m eta \u001b[36m0:00:01\u001b[0m\r\u001b[2K   \u001b[90m━━━━━━━━━━━━━━━━━━━━━━━━━━━━━━━━━━━━━━━━\u001b[0m \u001b[32m10.1/10.1 MB\u001b[0m \u001b[31m85.8 MB/s\u001b[0m eta \u001b[36m0:00:00\u001b[0m\n",
            "\u001b[?25h\u001b[?25l   \u001b[90m━━━━━━━━━━━━━━━━━━━━━━━━━━━━━━━━━━━━━━━━\u001b[0m \u001b[32m0.0/6.9 MB\u001b[0m \u001b[31m?\u001b[0m eta \u001b[36m-:--:--\u001b[0m\r\u001b[2K   \u001b[91m━━━━━━━━━━━━━━━━━━━━━━━━━━━━━━━━━━━━━━━\u001b[0m\u001b[91m╸\u001b[0m \u001b[32m6.9/6.9 MB\u001b[0m \u001b[31m249.4 MB/s\u001b[0m eta \u001b[36m0:00:01\u001b[0m\r\u001b[2K   \u001b[90m━━━━━━━━━━━━━━━━━━━━━━━━━━━━━━━━━━━━━━━━\u001b[0m \u001b[32m6.9/6.9 MB\u001b[0m \u001b[31m120.4 MB/s\u001b[0m eta \u001b[36m0:00:00\u001b[0m\n",
            "\u001b[?25h"
          ]
        }
      ]
    },
    {
      "cell_type": "markdown",
      "source": [
        "### Разработка веб-приложения с GigaChat и Streamlit"
      ],
      "metadata": {
        "id": "pL6AlM0tK8US"
      }
    },
    {
      "cell_type": "markdown",
      "source": [
        "Код вставить в \"app.py\""
      ],
      "metadata": {
        "id": "5ki3sgHeX7z6"
      }
    },
    {
      "cell_type": "code",
      "source": [
        "import os\n",
        "import json\n",
        "import requests\n",
        "import streamlit as st\n",
        "from langchain_gigachat import GigaChat\n",
        "from langchain_core.messages import HumanMessage, SystemMessage\n",
        "\n",
        "# Пример предшествующего промпта и роли. Измените это на свои значения.\n",
        "PRE_PROMPT = \"Ты выступаешь в роли ИИ ассистента. Подробно отвечай на вопросы, чтобы понятно было даже школьнику. Избегай опасных тем ответом: 'Тебе ещё рано об этом знать!'\" # базовый промпт\n",
        "ROLE = 'Ассистент'  # Измените это на свою роль\n",
        "\n",
        "MODELS = { # выбор моделей\n",
        "    'GigaChat Light': 'GigaChat Light',\n",
        "    'GigaChat Pro': 'GigaChat Pro',\n",
        "    'GigaChat Max': 'GigaChat Max',\n",
        "}\n",
        "\n",
        "# авторизация GigaChat\n",
        "url = \"https://ngw.devices.sberbank.ru:9443/api/v2/oauth\"\n",
        "\n",
        "payload = {\n",
        "    'scope': 'GIGACHAT_API_PERS'\n",
        "}\n",
        "\n",
        "headers = {\n",
        "    'Content-Type': 'application/x-www-form-urlencoded',\n",
        "    'Accept': 'application/json',\n",
        "    'RqUID': '52f2fec6-f9e1-4334-b08f-69716f7db05e',\n",
        "    'Authorization': f'Basic {os.environ[\"GIGACHAT_CREDENTIALS\"]}'\n",
        "}\n",
        "\n",
        "response = requests.request(\"POST\", url, headers=headers, data=payload, verify=False)\n",
        "\n",
        "access_token = json.loads(response.text)[\"access_token\"]\n",
        "\n",
        "chat = GigaChat(verify_ssl_certs=False, scope=\"GIGACHAT_API_PERS\")\n",
        "\n",
        "# Установка начальной конфигурации страницы\n",
        "st.set_page_config(\n",
        "    page_title=\"GigaApp\",         # Устанавливает заголовок страницы.\n",
        "    page_icon=\":robot_face:\",     # Устанавливает иконку страницы.\n",
        "    layout=\"wide\"                 # Устанавливает макет страницы — широкий формат\n",
        ")\n",
        "\n",
        "def setup_session_state():\n",
        "    \"\"\"Настройка начального состояния сессии\"\"\"\n",
        "    if 'chat_dialogue' not in st.session_state:\n",
        "        st.session_state['chat_dialogue'] = []\n",
        "    if 'model' not in st.session_state:\n",
        "        st.session_state['model'] = 'GigaChat Light'\n",
        "    if 'llm' not in st.session_state:\n",
        "        st.session_state['llm'] = MODELS[st.session_state['model']]\n",
        "    if 'role' not in st.session_state:\n",
        "        st.session_state['role'] = ROLE\n",
        "    if 'prompt' not in st.session_state:\n",
        "        st.session_state['prompt'] = PRE_PROMPT\n",
        "\n",
        "def render_settings():\n",
        "    \"\"\"Отображение настроек на основной странице\"\"\"\n",
        "    st.header(\"Настройки бота GigaChat\")\n",
        "    st.session_state['role'] = st.text_input('Введите роль бота:', st.session_state['role'])\n",
        "    st.session_state['prompt'] = st.text_area('Введите промпт:', st.session_state['prompt'])\n",
        "    selected_model = st.selectbox('Выберите модель:', list(MODELS.keys()))\n",
        "    st.session_state['llm'] = MODELS[selected_model]\n",
        "\n",
        "def render_chat_history():\n",
        "    \"\"\"Отображение истории чата\"\"\"\n",
        "    for message in st.session_state['chat_dialogue']:\n",
        "        with st.chat_message(message[\"role\"]):\n",
        "            st.markdown(message[\"content\"])\n",
        "\n",
        "def handle_user_input():\n",
        "    \"\"\"Обработка ввода пользователя\"\"\"\n",
        "    user_input = st.chat_input(\"Введите ваш вопрос:\")\n",
        "    if user_input:\n",
        "        st.session_state['chat_dialogue'].append({\n",
        "            \"role\": st.session_state['role'],\n",
        "            \"content\": user_input\n",
        "        })\n",
        "        with st.chat_message(st.session_state['role']):\n",
        "            st.markdown(user_input)\n",
        "        generate_assistant_response(user_input)\n",
        "\n",
        "def generate_assistant_response(user_input):\n",
        "    \"\"\"Генерация ответа ассистента\"\"\"\n",
        "    # Собираем весь диалог в одну строку\n",
        "    dialogue = \"\\n\".join([f\"{msg['role'].capitalize()}: {msg['content']}\" for msg in st.session_state['chat_dialogue']])\n",
        "    dialogue += \"\\nAssistant: \"\n",
        "\n",
        "    messages = [\n",
        "        SystemMessage(content=st.session_state['prompt']),\n",
        "        HumanMessage(content=dialogue),\n",
        "    ]\n",
        "\n",
        "    response = chat.invoke(messages).content\n",
        "\n",
        "    # Отображаем и сохраняем ответ\n",
        "    full_response = ''.join(response)\n",
        "    st.session_state['chat_dialogue'].append({\"role\": \"assistant\", \"content\": full_response})\n",
        "    with st.chat_message(\"assistant\"):\n",
        "        st.markdown(full_response)\n",
        "\n",
        "# Основная функция приложения\n",
        "def main():\n",
        "    \"\"\"Основная функция приложения\"\"\"\n",
        "    setup_session_state()     # настройка состояния сессии\n",
        "    render_settings()         # рендеринг боковой панели\n",
        "    render_chat_history()     # история чата\n",
        "    handle_user_input()       # пользовательский ввод\n",
        "\n",
        "if __name__ == \"__main__\":\n",
        "    main()"
      ],
      "metadata": {
        "id": "iz9b3iE3K7wd"
      },
      "execution_count": null,
      "outputs": []
    },
    {
      "cell_type": "code",
      "source": [
        "!echo > app.py"
      ],
      "metadata": {
        "id": "ORsxAuY4U7Qr"
      },
      "execution_count": null,
      "outputs": []
    },
    {
      "cell_type": "code",
      "source": [
        "from google.colab import files\n",
        "from google.colab import drive\n",
        "\n",
        "files.view(\"app.py\")"
      ],
      "metadata": {
        "colab": {
          "base_uri": "https://localhost:8080/",
          "height": 17
        },
        "id": "OXe4WOvEU98k",
        "outputId": "1925cb22-e5dd-4f9b-f984-1a7f9880e642"
      },
      "execution_count": null,
      "outputs": [
        {
          "output_type": "display_data",
          "data": {
            "text/plain": [
              "<IPython.core.display.Javascript object>"
            ],
            "application/javascript": [
              "\n",
              "      ((filepath) => {{\n",
              "        if (!google.colab.kernel.accessAllowed) {{\n",
              "          return;\n",
              "        }}\n",
              "        google.colab.files.view(filepath);\n",
              "      }})(\"/content/app.py\")"
            ]
          },
          "metadata": {}
        }
      ]
    },
    {
      "cell_type": "markdown",
      "source": [
        "### Деплой приложения с помощью ngrok"
      ],
      "metadata": {
        "id": "mGWHPRe0XQXj"
      }
    },
    {
      "cell_type": "code",
      "source": [
        "!pip install pyngrok"
      ],
      "metadata": {
        "colab": {
          "base_uri": "https://localhost:8080/"
        },
        "id": "RHuViHCmXTww",
        "outputId": "4a088a4b-d693-4e3d-b04b-b1b5e6828a36"
      },
      "execution_count": null,
      "outputs": [
        {
          "output_type": "stream",
          "name": "stdout",
          "text": [
            "Collecting pyngrok\n",
            "  Downloading pyngrok-7.4.0-py3-none-any.whl.metadata (8.1 kB)\n",
            "Requirement already satisfied: PyYAML>=5.1 in /usr/local/lib/python3.12/dist-packages (from pyngrok) (6.0.2)\n",
            "Downloading pyngrok-7.4.0-py3-none-any.whl (25 kB)\n",
            "Installing collected packages: pyngrok\n",
            "Successfully installed pyngrok-7.4.0\n"
          ]
        }
      ]
    },
    {
      "cell_type": "code",
      "source": [
        "from threading import Thread\n",
        "from pyngrok import ngrok"
      ],
      "metadata": {
        "id": "XIc6dGhvXZl3"
      },
      "execution_count": null,
      "outputs": []
    },
    {
      "cell_type": "code",
      "source": [
        "ngrok_key = userdata.get('ngrok_key')\n",
        "ngrok.set_auth_token(ngrok_key)"
      ],
      "metadata": {
        "id": "Ox-fq5FSXjWz"
      },
      "execution_count": null,
      "outputs": []
    },
    {
      "cell_type": "code",
      "source": [
        "def run_streamlit():\n",
        "    os.system('streamlit run /content/app.py --server.port 8501')"
      ],
      "metadata": {
        "id": "V9zwU7rvYY-J"
      },
      "execution_count": null,
      "outputs": []
    },
    {
      "cell_type": "code",
      "source": [
        "thread = Thread(target=run_streamlit)\n",
        "thread.start()"
      ],
      "metadata": {
        "id": "TmZ1oxhRYaU7"
      },
      "execution_count": null,
      "outputs": []
    },
    {
      "cell_type": "code",
      "source": [
        "public_url = ngrok.connect(addr='8501', proto='http', bind_tls=True)\n",
        "print('Ваше приложение Streamlit доступно по адресу:', public_url)"
      ],
      "metadata": {
        "colab": {
          "base_uri": "https://localhost:8080/"
        },
        "id": "1Eo3HDU9aEEG",
        "outputId": "0aa20959-923a-422c-81ac-a1565c96792a"
      },
      "execution_count": null,
      "outputs": [
        {
          "output_type": "stream",
          "name": "stdout",
          "text": [
            "Ваше приложение Streamlit доступно по адресу: NgrokTunnel: \"https://ba61dce225bb.ngrok-free.app\" -> \"http://localhost:8501\"\n"
          ]
        }
      ]
    },
    {
      "cell_type": "code",
      "source": [
        "ngrok.kill()"
      ],
      "metadata": {
        "id": "AXOyH0poaG22"
      },
      "execution_count": null,
      "outputs": []
    }
  ]
}